{
 "cells": [
  {
   "cell_type": "code",
   "execution_count": 2,
   "metadata": {
    "Collapsed": "false"
   },
   "outputs": [],
   "source": [
    "import tensorflow as tf\n",
    "from keras.datasets import mnist\n",
    "import pandas as pd\n",
    "import numpy as np\n",
    "import matplotlib.pyplot as plt\n",
    "import seaborn as sns\n",
    "from sklearn.model_selection import train_test_split\n",
    "\n",
    "from sklearn.metrics import r2_score"
   ]
  },
  {
   "cell_type": "code",
   "execution_count": 166,
   "metadata": {
    "Collapsed": "false"
   },
   "outputs": [],
   "source": [
    "(x_train, y_train), (x_test, y_test) = mnist.load_data()"
   ]
  },
  {
   "cell_type": "code",
   "execution_count": 167,
   "metadata": {
    "Collapsed": "false"
   },
   "outputs": [],
   "source": [
    "x_train = x_train.reshape(x_train.shape[0],x_train.shape[1]*x_train.shape[2]) /255\n",
    "x_test = x_test.reshape(x_test.shape[0],x_test.shape[1]*x_test.shape[2]) /255"
   ]
  },
  {
   "cell_type": "code",
   "execution_count": 168,
   "metadata": {
    "Collapsed": "false"
   },
   "outputs": [],
   "source": [
    "y_train = pd.get_dummies(y_train)\n",
    "y_test = pd.get_dummies(y_test)"
   ]
  },
  {
   "cell_type": "code",
   "execution_count": 222,
   "metadata": {
    "Collapsed": "false"
   },
   "outputs": [
    {
     "name": "stdout",
     "output_type": "stream",
     "text": [
      "Model: \"sequential_19\"\n",
      "_________________________________________________________________\n",
      "Layer (type)                 Output Shape              Param #   \n",
      "=================================================================\n",
      "hidden_layer_1 (Dense)       (None, 392)               307720    \n",
      "_________________________________________________________________\n",
      "hidden_layer_2 (Dense)       (None, 200)               78600     \n",
      "_________________________________________________________________\n",
      "hidden_layer_3 (Dense)       (None, 100)               20100     \n",
      "_________________________________________________________________\n",
      "hidden_layer_4 (Dense)       (None, 20)                2020      \n",
      "_________________________________________________________________\n",
      "output (Dense)               (None, 10)                210       \n",
      "=================================================================\n",
      "Total params: 408,650\n",
      "Trainable params: 408,650\n",
      "Non-trainable params: 0\n",
      "_________________________________________________________________\n"
     ]
    }
   ],
   "source": [
    "model = tf.keras.Sequential()\n",
    "\n",
    "m = x_train.shape[1]\n",
    "\n",
    "model.add(tf.keras.layers.Dense(392, activation='relu',kernel_regularizer=tf.keras.regularizers.l2(0.0001), input_shape=(m,), name = \"hidden_layer_1\"))\n",
    "\n",
    "model.add(tf.keras.layers.Dense(200, activation='relu', name = \"hidden_layer_2\"))\n",
    "\n",
    "model.add(tf.keras.layers.Dense(100, activation='relu', name = \"hidden_layer_3\"))\n",
    "\n",
    "model.add(tf.keras.layers.Dense(20, activation='relu', name = \"hidden_layer_4\"))\n",
    "\n",
    "model.add(tf.keras.layers.Dense(10, name = \"output\"))\n",
    "\n",
    "model.summary()"
   ]
  },
  {
   "cell_type": "code",
   "execution_count": 223,
   "metadata": {
    "Collapsed": "false"
   },
   "outputs": [],
   "source": [
    "model.compile(optimizer=tf.keras.optimizers.SGD(0.1),\n",
    "              loss=tf.keras.losses.mse,\n",
    "              metrics=['accuracy'])"
   ]
  },
  {
   "cell_type": "code",
   "execution_count": 230,
   "metadata": {
    "Collapsed": "false"
   },
   "outputs": [
    {
     "name": "stdout",
     "output_type": "stream",
     "text": [
      "Train on 60000 samples\n",
      "Epoch 1/20\n",
      "60000/60000 [==============================] - 3s 56us/sample - loss: 0.0238 - accuracy: 0.9857\n",
      "Epoch 2/20\n",
      "60000/60000 [==============================] - 3s 55us/sample - loss: 0.0222 - accuracy: 0.9866\n",
      "Epoch 3/20\n",
      "60000/60000 [==============================] - 3s 55us/sample - loss: 0.0207 - accuracy: 0.9876\n",
      "Epoch 4/20\n",
      "60000/60000 [==============================] - 3s 55us/sample - loss: 0.0194 - accuracy: 0.9884\n",
      "Epoch 5/20\n",
      "60000/60000 [==============================] - 3s 55us/sample - loss: 0.0181 - accuracy: 0.9894\n",
      "Epoch 6/20\n",
      "60000/60000 [==============================] - 3s 55us/sample - loss: 0.0169 - accuracy: 0.9898\n",
      "Epoch 7/20\n",
      "60000/60000 [==============================] - 3s 55us/sample - loss: 0.0158 - accuracy: 0.9908\n",
      "Epoch 8/20\n",
      "60000/60000 [==============================] - 3s 55us/sample - loss: 0.0148 - accuracy: 0.9911\n",
      "Epoch 9/20\n",
      "60000/60000 [==============================] - 3s 55us/sample - loss: 0.0139 - accuracy: 0.9918\n",
      "Epoch 10/20\n",
      "60000/60000 [==============================] - 3s 55us/sample - loss: 0.0130 - accuracy: 0.9925\n",
      "Epoch 11/20\n",
      "60000/60000 [==============================] - 3s 55us/sample - loss: 0.0122 - accuracy: 0.9930\n",
      "Epoch 12/20\n",
      "60000/60000 [==============================] - 3s 56us/sample - loss: 0.0114 - accuracy: 0.9932\n",
      "Epoch 13/20\n",
      "60000/60000 [==============================] - 3s 56us/sample - loss: 0.0107 - accuracy: 0.9939\n",
      "Epoch 14/20\n",
      "60000/60000 [==============================] - 3s 56us/sample - loss: 0.0101 - accuracy: 0.9943\n",
      "Epoch 15/20\n",
      "60000/60000 [==============================] - 3s 55us/sample - loss: 0.0095 - accuracy: 0.9945\n",
      "Epoch 16/20\n",
      "60000/60000 [==============================] - 3s 55us/sample - loss: 0.0089 - accuracy: 0.9949\n",
      "Epoch 17/20\n",
      "60000/60000 [==============================] - 3s 56us/sample - loss: 0.0084 - accuracy: 0.9953\n",
      "Epoch 18/20\n",
      "60000/60000 [==============================] - 3s 55us/sample - loss: 0.0079 - accuracy: 0.9957\n",
      "Epoch 19/20\n",
      "60000/60000 [==============================] - 3s 55us/sample - loss: 0.0075 - accuracy: 0.9958\n",
      "Epoch 20/20\n",
      "60000/60000 [==============================] - 3s 55us/sample - loss: 0.0070 - accuracy: 0.9961\n"
     ]
    },
    {
     "data": {
      "text/plain": [
       "<tensorflow.python.keras.callbacks.History at 0x21169e549c8>"
      ]
     },
     "execution_count": 230,
     "metadata": {},
     "output_type": "execute_result"
    }
   ],
   "source": [
    "model.fit(x_train, y_train, epochs=20)"
   ]
  },
  {
   "cell_type": "code",
   "execution_count": 231,
   "metadata": {
    "Collapsed": "false"
   },
   "outputs": [
    {
     "name": "stdout",
     "output_type": "stream",
     "text": [
      "60000/60000 [==============================] - 1s 22us/sample - loss: 0.0066 - accuracy: 0.9972\n"
     ]
    },
    {
     "data": {
      "text/plain": [
       "[0.006623129325856765, 0.9972]"
      ]
     },
     "execution_count": 231,
     "metadata": {},
     "output_type": "execute_result"
    }
   ],
   "source": [
    "model.evaluate(x_train, y_train)"
   ]
  },
  {
   "cell_type": "code",
   "execution_count": 232,
   "metadata": {
    "Collapsed": "false"
   },
   "outputs": [
    {
     "name": "stdout",
     "output_type": "stream",
     "text": [
      "10000/10000 [==============================] - 0s 24us/sample - loss: 0.0088 - accuracy: 0.9836\n"
     ]
    },
    {
     "data": {
      "text/plain": [
       "[0.008779668825864792, 0.9836]"
      ]
     },
     "execution_count": 232,
     "metadata": {},
     "output_type": "execute_result"
    }
   ],
   "source": [
    "model.evaluate(x_test,y_test)"
   ]
  }
 ],
 "metadata": {
  "kernelspec": {
   "display_name": "Python 3",
   "language": "python",
   "name": "python3"
  },
  "language_info": {
   "codemirror_mode": {
    "name": "ipython",
    "version": 3
   },
   "file_extension": ".py",
   "mimetype": "text/x-python",
   "name": "python",
   "nbconvert_exporter": "python",
   "pygments_lexer": "ipython3",
   "version": "3.7.6"
  }
 },
 "nbformat": 4,
 "nbformat_minor": 4
}
