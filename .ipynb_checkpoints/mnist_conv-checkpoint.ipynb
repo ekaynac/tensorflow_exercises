{
 "cells": [
  {
   "cell_type": "code",
   "execution_count": 1,
   "metadata": {
    "Collapsed": "false"
   },
   "outputs": [],
   "source": [
    "import tensorflow as tf\n",
    "from tensorflow.keras.datasets import mnist\n",
    "import pandas as pd\n",
    "import numpy as np\n",
    "import matplotlib.pyplot as plt\n",
    "import seaborn as sns\n",
    "from sklearn.model_selection import train_test_split\n",
    "\n",
    "from sklearn.metrics import r2_score"
   ]
  },
  {
   "cell_type": "code",
   "execution_count": 2,
   "metadata": {
    "Collapsed": "false"
   },
   "outputs": [],
   "source": [
    "(x_train, y_train), (x_test, y_test) = mnist.load_data()"
   ]
  },
  {
   "cell_type": "code",
   "execution_count": 3,
   "metadata": {
    "Collapsed": "false"
   },
   "outputs": [],
   "source": [
    "x_train = x_train/255\n",
    "x_test = x_test/255"
   ]
  },
  {
   "cell_type": "code",
   "execution_count": 4,
   "metadata": {
    "Collapsed": "false"
   },
   "outputs": [],
   "source": [
    "y_train = tf.keras.utils.to_categorical(y_train)\n",
    "y_test = tf.keras.utils.to_categorical(y_test)"
   ]
  },
  {
   "cell_type": "code",
   "execution_count": 5,
   "metadata": {
    "Collapsed": "false"
   },
   "outputs": [
    {
     "data": {
      "text/plain": [
       "28"
      ]
     },
     "execution_count": 5,
     "metadata": {},
     "output_type": "execute_result"
    }
   ],
   "source": [
    "m = x_train.shape[1]\n",
    "n = x_train.shape[2]\n",
    "n"
   ]
  },
  {
   "cell_type": "code",
   "execution_count": 6,
   "metadata": {
    "Collapsed": "false"
   },
   "outputs": [
    {
     "name": "stdout",
     "output_type": "stream",
     "text": [
      "Model: \"sequential\"\n",
      "_________________________________________________________________\n",
      "Layer (type)                 Output Shape              Param #   \n",
      "=================================================================\n",
      "hidden_layer_1 (Conv1D)      (None, 26, 128)           10880     \n",
      "_________________________________________________________________\n",
      "hidden_layer_2 (Conv1D)      (None, 24, 128)           49280     \n",
      "_________________________________________________________________\n",
      "max_pooling1d (MaxPooling1D) (None, 12, 128)           0         \n",
      "_________________________________________________________________\n",
      "hidden_layer_3 (Flatten)     (None, 1536)              0         \n",
      "_________________________________________________________________\n",
      "hidden_layer_4 (Dense)       (None, 256)               393472    \n",
      "_________________________________________________________________\n",
      "output (Dense)               (None, 10)                2570      \n",
      "=================================================================\n",
      "Total params: 456,202\n",
      "Trainable params: 456,202\n",
      "Non-trainable params: 0\n",
      "_________________________________________________________________\n"
     ]
    }
   ],
   "source": [
    "model = tf.keras.Sequential()\n",
    "\n",
    "m = x_train.shape[1]\n",
    "n = x_train.shape[2]\n",
    "\n",
    "model.add(tf.keras.layers.Conv1D(128,kernel_size=(3), activation='relu', input_shape=(m,n), name = \"hidden_layer_1\"))\n",
    "\n",
    "model.add(tf.keras.layers.Conv1D(128,kernel_size=(3), activation='relu', name = \"hidden_layer_2\"))\n",
    "\n",
    "model.add(tf.keras.layers.MaxPool1D())\n",
    "\n",
    "model.add(tf.keras.layers.Flatten(name = \"hidden_layer_3\"))\n",
    "\n",
    "model.add(tf.keras.layers.Dense(256, activation='relu', name = \"hidden_layer_4\"))\n",
    "\n",
    "model.add(tf.keras.layers.Dense(10,activation=\"softmax\", name = \"output\"))\n",
    "\n",
    "model.summary()"
   ]
  },
  {
   "cell_type": "code",
   "execution_count": 7,
   "metadata": {
    "Collapsed": "false"
   },
   "outputs": [
    {
     "name": "stdout",
     "output_type": "stream",
     "text": [
      "Train on 60000 samples\n",
      "Epoch 1/50\n",
      "60000/60000 [==============================] - 2s 38us/sample - loss: 0.4453 - accuracy: 0.8824\n",
      "Epoch 2/50\n",
      "60000/60000 [==============================] - 1s 18us/sample - loss: 0.1709 - accuracy: 0.9497\n",
      "Epoch 3/50\n",
      "60000/60000 [==============================] - 1s 18us/sample - loss: 0.1157 - accuracy: 0.9669\n",
      "Epoch 4/50\n",
      "60000/60000 [==============================] - 1s 17us/sample - loss: 0.0882 - accuracy: 0.9747\n",
      "Epoch 5/50\n",
      "60000/60000 [==============================] - 1s 18us/sample - loss: 0.0711 - accuracy: 0.9791\n",
      "Epoch 6/50\n",
      "60000/60000 [==============================] - 1s 18us/sample - loss: 0.0603 - accuracy: 0.9819\n",
      "Epoch 7/50\n",
      "60000/60000 [==============================] - 1s 18us/sample - loss: 0.0518 - accuracy: 0.9852\n",
      "Epoch 8/50\n",
      "60000/60000 [==============================] - 1s 18us/sample - loss: 0.0453 - accuracy: 0.9867\n",
      "Epoch 9/50\n",
      "60000/60000 [==============================] - 1s 18us/sample - loss: 0.0395 - accuracy: 0.9887\n",
      "Epoch 10/50\n",
      "60000/60000 [==============================] - 1s 18us/sample - loss: 0.0354 - accuracy: 0.9895\n",
      "Epoch 11/50\n",
      "60000/60000 [==============================] - 1s 18us/sample - loss: 0.0321 - accuracy: 0.9908\n",
      "Epoch 12/50\n",
      "60000/60000 [==============================] - 1s 18us/sample - loss: 0.0279 - accuracy: 0.9918\n",
      "Epoch 13/50\n",
      "60000/60000 [==============================] - 1s 18us/sample - loss: 0.0258 - accuracy: 0.9926\n",
      "Epoch 14/50\n",
      "60000/60000 [==============================] - 1s 18us/sample - loss: 0.0227 - accuracy: 0.9934\n",
      "Epoch 15/50\n",
      "60000/60000 [==============================] - 1s 18us/sample - loss: 0.0198 - accuracy: 0.9949\n",
      "Epoch 16/50\n",
      "60000/60000 [==============================] - 1s 18us/sample - loss: 0.0194 - accuracy: 0.9945\n",
      "Epoch 17/50\n",
      "60000/60000 [==============================] - 1s 18us/sample - loss: 0.0165 - accuracy: 0.9953\n",
      "Epoch 18/50\n",
      "60000/60000 [==============================] - 1s 18us/sample - loss: 0.0146 - accuracy: 0.9961\n",
      "Epoch 19/50\n",
      "60000/60000 [==============================] - 1s 18us/sample - loss: 0.0146 - accuracy: 0.9957\n",
      "Epoch 20/50\n",
      "60000/60000 [==============================] - 1s 18us/sample - loss: 0.0128 - accuracy: 0.9966\n",
      "Epoch 21/50\n",
      "60000/60000 [==============================] - 1s 17us/sample - loss: 0.0115 - accuracy: 0.9968\n",
      "Epoch 22/50\n",
      "60000/60000 [==============================] - 1s 18us/sample - loss: 0.0096 - accuracy: 0.9977\n",
      "Epoch 23/50\n",
      "60000/60000 [==============================] - 1s 18us/sample - loss: 0.0100 - accuracy: 0.9975\n",
      "Epoch 24/50\n",
      "60000/60000 [==============================] - 1s 18us/sample - loss: 0.0079 - accuracy: 0.9984\n",
      "Epoch 25/50\n",
      "60000/60000 [==============================] - 1s 17us/sample - loss: 0.0066 - accuracy: 0.9986\n",
      "Epoch 26/50\n",
      "60000/60000 [==============================] - 1s 18us/sample - loss: 0.0064 - accuracy: 0.9987\n",
      "Epoch 27/50\n",
      "60000/60000 [==============================] - 1s 18us/sample - loss: 0.0061 - accuracy: 0.9987\n",
      "Epoch 28/50\n",
      "60000/60000 [==============================] - 1s 18us/sample - loss: 0.0053 - accuracy: 0.9988\n",
      "Epoch 29/50\n",
      "60000/60000 [==============================] - 1s 17us/sample - loss: 0.0051 - accuracy: 0.9989\n",
      "Epoch 30/50\n",
      "60000/60000 [==============================] - 1s 18us/sample - loss: 0.0045 - accuracy: 0.9992\n",
      "Epoch 31/50\n",
      "60000/60000 [==============================] - 1s 18us/sample - loss: 0.0037 - accuracy: 0.9993\n",
      "Epoch 32/50\n",
      "60000/60000 [==============================] - 1s 18us/sample - loss: 0.0029 - accuracy: 0.9995\n",
      "Epoch 33/50\n",
      "60000/60000 [==============================] - 1s 18us/sample - loss: 0.0026 - accuracy: 0.9997\n",
      "Epoch 34/50\n",
      "60000/60000 [==============================] - 1s 18us/sample - loss: 0.0028 - accuracy: 0.9995\n",
      "Epoch 35/50\n",
      "60000/60000 [==============================] - 1s 18us/sample - loss: 0.0026 - accuracy: 0.9996\n",
      "Epoch 36/50\n",
      "60000/60000 [==============================] - 1s 18us/sample - loss: 0.0019 - accuracy: 0.9999\n",
      "Epoch 37/50\n",
      "60000/60000 [==============================] - 1s 18us/sample - loss: 0.0019 - accuracy: 0.9997\n",
      "Epoch 38/50\n",
      "60000/60000 [==============================] - 1s 18us/sample - loss: 0.0021 - accuracy: 0.9997\n",
      "Epoch 39/50\n",
      "60000/60000 [==============================] - 1s 18us/sample - loss: 0.0015 - accuracy: 0.9999\n",
      "Epoch 40/50\n",
      "60000/60000 [==============================] - 1s 18us/sample - loss: 0.0012 - accuracy: 0.9999\n",
      "Epoch 41/50\n",
      "60000/60000 [==============================] - 1s 18us/sample - loss: 0.0011 - accuracy: 0.9999\n",
      "Epoch 42/50\n",
      "60000/60000 [==============================] - 1s 18us/sample - loss: 8.4366e-04 - accuracy: 1.0000\n",
      "Epoch 43/50\n",
      "60000/60000 [==============================] - ETA: 0s - loss: 8.3103e-04 - accuracy: 0.99 - 1s 18us/sample - loss: 8.4035e-04 - accuracy: 0.9999\n",
      "Epoch 44/50\n",
      "60000/60000 [==============================] - 1s 18us/sample - loss: 0.0011 - accuracy: 0.9999\n",
      "Epoch 45/50\n",
      "60000/60000 [==============================] - 1s 18us/sample - loss: 7.8183e-04 - accuracy: 1.0000\n",
      "Epoch 46/50\n",
      "60000/60000 [==============================] - 1s 18us/sample - loss: 5.0145e-04 - accuracy: 1.0000\n",
      "Epoch 47/50\n",
      "60000/60000 [==============================] - 1s 17us/sample - loss: 6.9421e-04 - accuracy: 0.9999\n",
      "Epoch 48/50\n",
      "60000/60000 [==============================] - 1s 18us/sample - loss: 6.8164e-04 - accuracy: 1.0000\n",
      "Epoch 49/50\n",
      "60000/60000 [==============================] - 1s 18us/sample - loss: 3.8739e-04 - accuracy: 1.0000\n",
      "Epoch 50/50\n",
      "60000/60000 [==============================] - 1s 18us/sample - loss: 3.9161e-04 - accuracy: 1.0000\n"
     ]
    },
    {
     "data": {
      "text/plain": [
       "<tensorflow.python.keras.callbacks.History at 0x2194ed2e988>"
      ]
     },
     "execution_count": 7,
     "metadata": {},
     "output_type": "execute_result"
    }
   ],
   "source": [
    "model.compile(optimizer=tf.keras.optimizers.Adamax(0.001), \n",
    "              loss=tf.keras.losses.categorical_crossentropy,\n",
    "              metrics=['accuracy']) \n",
    "  \n",
    "model.fit(x_train, y_train, epochs=50, batch_size=500) "
   ]
  },
  {
   "cell_type": "code",
   "execution_count": 8,
   "metadata": {
    "Collapsed": "false"
   },
   "outputs": [
    {
     "name": "stdout",
     "output_type": "stream",
     "text": [
      "10000/10000 [==============================] - 1s 56us/sample - loss: 0.0391 - accuracy: 0.9898\n"
     ]
    },
    {
     "data": {
      "text/plain": [
       "[0.03911681487763439, 0.9898]"
      ]
     },
     "execution_count": 8,
     "metadata": {},
     "output_type": "execute_result"
    }
   ],
   "source": [
    "model.evaluate(x_test,y_test)"
   ]
  },
  {
   "cell_type": "code",
   "execution_count": null,
   "metadata": {
    "Collapsed": "false"
   },
   "outputs": [],
   "source": []
  }
 ],
 "metadata": {
  "kernelspec": {
   "display_name": "TensorFlow-gpu",
   "language": "python",
   "name": "tensorflow-gpu"
  },
  "language_info": {
   "codemirror_mode": {
    "name": "ipython",
    "version": 3
   },
   "file_extension": ".py",
   "mimetype": "text/x-python",
   "name": "python",
   "nbconvert_exporter": "python",
   "pygments_lexer": "ipython3",
   "version": "3.7.7"
  }
 },
 "nbformat": 4,
 "nbformat_minor": 4
}
