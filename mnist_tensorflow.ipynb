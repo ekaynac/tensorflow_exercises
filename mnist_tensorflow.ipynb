{
 "cells": [
  {
   "cell_type": "code",
   "execution_count": 1,
   "metadata": {
    "Collapsed": "false"
   },
   "outputs": [
    {
     "name": "stderr",
     "output_type": "stream",
     "text": [
      "\n",
      "Bad key \"text.kerning_factor\" on line 4 in\n",
      "C:\\Users\\enes_\\anaconda3\\envs\\tensorflow-gpu\\lib\\site-packages\\matplotlib\\mpl-data\\stylelib\\_classic_test_patch.mplstyle.\n",
      "You probably need to get an updated matplotlibrc file from\n",
      "https://github.com/matplotlib/matplotlib/blob/v3.1.3/matplotlibrc.template\n",
      "or from the matplotlib source distribution\n"
     ]
    }
   ],
   "source": [
    "import tensorflow as tf\n",
    "from tensorflow.keras.datasets import mnist\n",
    "import pandas as pd\n",
    "import numpy as np\n",
    "import matplotlib.pyplot as plt\n",
    "import seaborn as sns\n",
    "from sklearn.model_selection import train_test_split\n",
    "\n",
    "from sklearn.metrics import r2_score"
   ]
  },
  {
   "cell_type": "code",
   "execution_count": 2,
   "metadata": {
    "Collapsed": "false"
   },
   "outputs": [],
   "source": [
    "(x_train, y_train), (x_test, y_test) = mnist.load_data()"
   ]
  },
  {
   "cell_type": "code",
   "execution_count": 3,
   "metadata": {
    "Collapsed": "false"
   },
   "outputs": [],
   "source": [
    "x_train = x_train.reshape(x_train.shape[0],x_train.shape[1]*x_train.shape[2]) /255\n",
    "x_test = x_test.reshape(x_test.shape[0],x_test.shape[1]*x_test.shape[2]) /255"
   ]
  },
  {
   "cell_type": "code",
   "execution_count": 4,
   "metadata": {
    "Collapsed": "false"
   },
   "outputs": [],
   "source": [
    "y_train = pd.get_dummies(y_train)\n",
    "y_test = pd.get_dummies(y_test)"
   ]
  },
  {
   "cell_type": "code",
   "execution_count": 5,
   "metadata": {
    "Collapsed": "false"
   },
   "outputs": [
    {
     "name": "stdout",
     "output_type": "stream",
     "text": [
      "Model: \"sequential\"\n",
      "_________________________________________________________________\n",
      "Layer (type)                 Output Shape              Param #   \n",
      "=================================================================\n",
      "hidden_layer_1 (Dense)       (None, 392)               307720    \n",
      "_________________________________________________________________\n",
      "hidden_layer_2 (Dense)       (None, 200)               78600     \n",
      "_________________________________________________________________\n",
      "hidden_layer_3 (Dense)       (None, 100)               20100     \n",
      "_________________________________________________________________\n",
      "hidden_layer_4 (Dense)       (None, 20)                2020      \n",
      "_________________________________________________________________\n",
      "output (Dense)               (None, 10)                210       \n",
      "=================================================================\n",
      "Total params: 408,650\n",
      "Trainable params: 408,650\n",
      "Non-trainable params: 0\n",
      "_________________________________________________________________\n"
     ]
    }
   ],
   "source": [
    "model = tf.keras.Sequential()\n",
    "\n",
    "m = x_train.shape[1]\n",
    "\n",
    "model.add(tf.keras.layers.Dense(392, activation='relu',kernel_regularizer=tf.keras.regularizers.l2(0.0001), input_shape=(m,), name = \"hidden_layer_1\"))\n",
    "\n",
    "model.add(tf.keras.layers.Dense(200, activation='relu', name = \"hidden_layer_2\"))\n",
    "\n",
    "model.add(tf.keras.layers.Dense(100, activation='relu', name = \"hidden_layer_3\"))\n",
    "\n",
    "model.add(tf.keras.layers.Dense(20, activation='relu', name = \"hidden_layer_4\"))\n",
    "\n",
    "model.add(tf.keras.layers.Dense(10, name = \"output\"))\n",
    "\n",
    "model.summary()"
   ]
  },
  {
   "cell_type": "code",
   "execution_count": 6,
   "metadata": {
    "Collapsed": "false"
   },
   "outputs": [],
   "source": [
    "model.compile(optimizer=tf.keras.optimizers.SGD(1),\n",
    "              loss=tf.keras.losses.mse,\n",
    "              metrics=['accuracy'])"
   ]
  },
  {
   "cell_type": "code",
   "execution_count": null,
   "metadata": {
    "Collapsed": "false"
   },
   "outputs": [
    {
     "name": "stdout",
     "output_type": "stream",
     "text": [
      "Train on 60000 samples\n",
      "Epoch 1/20\n",
      "60000/60000 [==============================] - 3s 53us/sample - loss: 0.0537 - accuracy: 0.9189\n",
      "Epoch 2/20\n",
      "60000/60000 [==============================] - 3s 45us/sample - loss: 0.0249 - accuracy: 0.9701\n",
      "Epoch 3/20\n",
      "60000/60000 [==============================] - 3s 46us/sample - loss: 0.0147 - accuracy: 0.9771\n",
      "Epoch 4/20\n",
      "60000/60000 [==============================] - 3s 45us/sample - loss: 0.0103 - accuracy: 0.9776\n",
      "Epoch 5/20\n",
      "60000/60000 [==============================] - 3s 45us/sample - loss: 0.0081 - accuracy: 0.9807\n",
      "Epoch 6/20\n",
      "60000/60000 [==============================] - 3s 46us/sample - loss: 0.0070 - accuracy: 0.9810\n",
      "Epoch 7/20\n",
      "60000/60000 [==============================] - 3s 46us/sample - loss: 0.0067 - accuracy: 0.9809\n",
      "Epoch 8/20\n",
      "60000/60000 [==============================] - 3s 47us/sample - loss: 0.0063 - accuracy: 0.9826\n",
      "Epoch 9/20\n",
      "60000/60000 [==============================] - 3s 47us/sample - loss: 0.0063 - accuracy: 0.9823\n",
      "Epoch 10/20\n",
      "60000/60000 [==============================] - 3s 49us/sample - loss: 0.0062 - accuracy: 0.9821\n",
      "Epoch 11/20\n",
      "60000/60000 [==============================] - 3s 48us/sample - loss: 0.0061 - accuracy: 0.9836\n",
      "Epoch 12/20\n",
      "60000/60000 [==============================] - 3s 47us/sample - loss: 0.0062 - accuracy: 0.9822\n",
      "Epoch 13/20\n",
      "60000/60000 [==============================] - 3s 48us/sample - loss: 0.0061 - accuracy: 0.9830\n",
      "Epoch 14/20\n",
      "60000/60000 [==============================] - 3s 48us/sample - loss: 0.0060 - accuracy: 0.9836\n",
      "Epoch 15/20\n",
      "60000/60000 [==============================] - 3s 47us/sample - loss: 0.0061 - accuracy: 0.9834\n",
      "Epoch 16/20\n",
      "60000/60000 [==============================] - 3s 48us/sample - loss: 0.0060 - accuracy: 0.9833\n",
      "Epoch 17/20\n",
      "31424/60000 [==============>...............] - ETA: 1s - loss: 0.0059 - accuracy: 0.9850"
     ]
    }
   ],
   "source": [
    "model.fit(x_train, y_train, epochs=20)"
   ]
  },
  {
   "cell_type": "code",
   "execution_count": null,
   "metadata": {
    "Collapsed": "false"
   },
   "outputs": [],
   "source": [
    "model.evaluate(x_train, y_train)"
   ]
  },
  {
   "cell_type": "code",
   "execution_count": null,
   "metadata": {
    "Collapsed": "false"
   },
   "outputs": [],
   "source": [
    "model.evaluate(x_test,y_test)"
   ]
  },
  {
   "cell_type": "code",
   "execution_count": null,
   "metadata": {},
   "outputs": [],
   "source": []
  }
 ],
 "metadata": {
  "kernelspec": {
   "display_name": "TensorFlow-gpu",
   "language": "python",
   "name": "tensorflow-gpu"
  },
  "language_info": {
   "codemirror_mode": {
    "name": "ipython",
    "version": 3
   },
   "file_extension": ".py",
   "mimetype": "text/x-python",
   "name": "python",
   "nbconvert_exporter": "python",
   "pygments_lexer": "ipython3",
   "version": "3.7.7"
  }
 },
 "nbformat": 4,
 "nbformat_minor": 4
}
